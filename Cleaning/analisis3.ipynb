{
 "cells": [
  {
   "cell_type": "code",
   "execution_count": 1,
   "id": "3ceab041",
   "metadata": {},
   "outputs": [],
   "source": [
    "import os\n",
    "import math\n",
    "import glob #untuk mengambil semua file dalam satu folder\n",
    "import requests #supaya bisa mengambil data dari website dengan cara request\n",
    "from pyforest import * #numpy, pandas, matplotlib, seaborn, dll"
   ]
  },
  {
   "cell_type": "code",
   "execution_count": 2,
   "id": "8e88bff3",
   "metadata": {},
   "outputs": [],
   "source": [
    "import missingno as msno #bantu dalam missing data\n",
    "import sweetviz as sv #eksplorasi data"
   ]
  },
  {
   "cell_type": "code",
   "execution_count": 3,
   "id": "ae78ae06",
   "metadata": {},
   "outputs": [
    {
     "data": {
      "application/javascript": [
       "\n",
       "        if (window._pyforest_update_imports_cell) { window._pyforest_update_imports_cell('import pandas as pd'); }\n",
       "    "
      ],
      "text/plain": [
       "<IPython.core.display.Javascript object>"
      ]
     },
     "metadata": {},
     "output_type": "display_data"
    },
    {
     "data": {
      "text/html": [
       "<div>\n",
       "<style scoped>\n",
       "    .dataframe tbody tr th:only-of-type {\n",
       "        vertical-align: middle;\n",
       "    }\n",
       "\n",
       "    .dataframe tbody tr th {\n",
       "        vertical-align: top;\n",
       "    }\n",
       "\n",
       "    .dataframe thead th {\n",
       "        text-align: right;\n",
       "    }\n",
       "</style>\n",
       "<table border=\"1\" class=\"dataframe\">\n",
       "  <thead>\n",
       "    <tr style=\"text-align: right;\">\n",
       "      <th></th>\n",
       "      <th>Nama</th>\n",
       "      <th>Kota</th>\n",
       "      <th>Kabupaten</th>\n",
       "      <th>Deskripsi</th>\n",
       "      <th>Latitude</th>\n",
       "      <th>Longitude</th>\n",
       "      <th>Kamar Tidur</th>\n",
       "      <th>LB (m2)</th>\n",
       "      <th>LT (m2)</th>\n",
       "      <th>Harga</th>\n",
       "    </tr>\n",
       "  </thead>\n",
       "  <tbody>\n",
       "    <tr>\n",
       "      <th>0</th>\n",
       "      <td>Dijual Rumah Strategis Bebas Banjir Pondok Ung...</td>\n",
       "      <td>Babelan</td>\n",
       "      <td>Bekasi</td>\n",
       "      <td>Pondok Ungu Permai .Blok AD16 (J-17533) Pondok...</td>\n",
       "      <td>-6.190236</td>\n",
       "      <td>107.019619</td>\n",
       "      <td>2</td>\n",
       "      <td>100</td>\n",
       "      <td>60</td>\n",
       "      <td>560.0</td>\n",
       "    </tr>\n",
       "    <tr>\n",
       "      <th>1</th>\n",
       "      <td>Rumah Bintara 2 Lantai Lokasi Baru &amp; Strategis</td>\n",
       "      <td>Bintara Jaya</td>\n",
       "      <td>Bekasi</td>\n",
       "      <td>Di Jual Rumah Bintara Jaya Dekat Ke LRT Cikuni...</td>\n",
       "      <td>-6.240000</td>\n",
       "      <td>106.950618</td>\n",
       "      <td>3</td>\n",
       "      <td>90</td>\n",
       "      <td>60</td>\n",
       "      <td>825.0</td>\n",
       "    </tr>\n",
       "    <tr>\n",
       "      <th>2</th>\n",
       "      <td>Rumah 3 Lantai Strategis di Kota Harapan Indah...</td>\n",
       "      <td>Harapan Indah</td>\n",
       "      <td>Bekasi</td>\n",
       "      <td>Dijual Cepat Rumah siap huni lokasi strategis,...</td>\n",
       "      <td>-6.181752</td>\n",
       "      <td>106.973684</td>\n",
       "      <td>4</td>\n",
       "      <td>250</td>\n",
       "      <td>163</td>\n",
       "      <td>2040.0</td>\n",
       "    </tr>\n",
       "    <tr>\n",
       "      <th>3</th>\n",
       "      <td>Jual Cepat rumah di Harapan indah Bekasi Harga...</td>\n",
       "      <td>Harapan Indah</td>\n",
       "      <td>Bekasi</td>\n",
       "      <td>Lokasi sangat strategis : § Dekat dengan Pusat...</td>\n",
       "      <td>-6.181752</td>\n",
       "      <td>106.973684</td>\n",
       "      <td>2</td>\n",
       "      <td>84</td>\n",
       "      <td>94</td>\n",
       "      <td>755.0</td>\n",
       "    </tr>\n",
       "    <tr>\n",
       "      <th>4</th>\n",
       "      <td>Dijual Rumah Siap Huni Tanah Luas di Kota Beka...</td>\n",
       "      <td>Harapan Indah</td>\n",
       "      <td>Bekasi</td>\n",
       "      <td>Perumahan Graha Harapan (J-15927) MUSTIKAJAYA,...</td>\n",
       "      <td>-6.181752</td>\n",
       "      <td>106.973684</td>\n",
       "      <td>3</td>\n",
       "      <td>95</td>\n",
       "      <td>128</td>\n",
       "      <td>860.0</td>\n",
       "    </tr>\n",
       "    <tr>\n",
       "      <th>...</th>\n",
       "      <td>...</td>\n",
       "      <td>...</td>\n",
       "      <td>...</td>\n",
       "      <td>...</td>\n",
       "      <td>...</td>\n",
       "      <td>...</td>\n",
       "      <td>...</td>\n",
       "      <td>...</td>\n",
       "      <td>...</td>\n",
       "      <td>...</td>\n",
       "    </tr>\n",
       "    <tr>\n",
       "      <th>7187</th>\n",
       "      <td>Rumah Eksklusif di Sentul Alaya Lokasi Terbaik...</td>\n",
       "      <td>Sentul</td>\n",
       "      <td>Bogor</td>\n",
       "      <td>Rumah Eksklusif di Sentul Alaya Lokasi Terbaik...</td>\n",
       "      <td>-6.521133</td>\n",
       "      <td>106.850288</td>\n",
       "      <td>3</td>\n",
       "      <td>95</td>\n",
       "      <td>180</td>\n",
       "      <td>2350.0</td>\n",
       "    </tr>\n",
       "    <tr>\n",
       "      <th>7188</th>\n",
       "      <td>Dijual Rumah Murah Siap Huni Dan Sudah Renovas...</td>\n",
       "      <td>Parung</td>\n",
       "      <td>Bogor</td>\n",
       "      <td>J-9060 SHM LT 82 LB 39 1 Lantai 2 Kamar Tidur ...</td>\n",
       "      <td>-6.427080</td>\n",
       "      <td>106.724485</td>\n",
       "      <td>2</td>\n",
       "      <td>39</td>\n",
       "      <td>82</td>\n",
       "      <td>600.0</td>\n",
       "    </tr>\n",
       "    <tr>\n",
       "      <th>7189</th>\n",
       "      <td>Dijual Rumah 2 Lantai Di Cluster Siap Huni Dek...</td>\n",
       "      <td>Cilebut</td>\n",
       "      <td>Bogor</td>\n",
       "      <td>J-17894 Harga yang tertera adalah harga Not Al...</td>\n",
       "      <td>-6.529410</td>\n",
       "      <td>106.795715</td>\n",
       "      <td>2</td>\n",
       "      <td>48</td>\n",
       "      <td>84</td>\n",
       "      <td>820.0</td>\n",
       "    </tr>\n",
       "    <tr>\n",
       "      <th>7190</th>\n",
       "      <td>Rumah Murah Bebas Banjir Harga Nego Bisa KPR d...</td>\n",
       "      <td>Bogor</td>\n",
       "      <td>Bogor</td>\n",
       "      <td>Bali Resort Gunung Sindur (J-17691) Bali Resor...</td>\n",
       "      <td>-6.597150</td>\n",
       "      <td>106.806039</td>\n",
       "      <td>2</td>\n",
       "      <td>56</td>\n",
       "      <td>68</td>\n",
       "      <td>800.0</td>\n",
       "    </tr>\n",
       "    <tr>\n",
       "      <th>7191</th>\n",
       "      <td>Dijual Rumah Murah Sudah Renovasi Dekat Aeon S...</td>\n",
       "      <td>Sentul</td>\n",
       "      <td>Bogor</td>\n",
       "      <td>J-17780 SHM LT 72 LB 50 1 Lantai 2 Kamar Tidur...</td>\n",
       "      <td>-6.521133</td>\n",
       "      <td>106.850288</td>\n",
       "      <td>2</td>\n",
       "      <td>50</td>\n",
       "      <td>72</td>\n",
       "      <td>730.0</td>\n",
       "    </tr>\n",
       "  </tbody>\n",
       "</table>\n",
       "<p>7192 rows × 10 columns</p>\n",
       "</div>"
      ],
      "text/plain": [
       "                                                   Nama           Kota  \\\n",
       "0     Dijual Rumah Strategis Bebas Banjir Pondok Ung...        Babelan   \n",
       "1        Rumah Bintara 2 Lantai Lokasi Baru & Strategis   Bintara Jaya   \n",
       "2     Rumah 3 Lantai Strategis di Kota Harapan Indah...  Harapan Indah   \n",
       "3     Jual Cepat rumah di Harapan indah Bekasi Harga...  Harapan Indah   \n",
       "4     Dijual Rumah Siap Huni Tanah Luas di Kota Beka...  Harapan Indah   \n",
       "...                                                 ...            ...   \n",
       "7187  Rumah Eksklusif di Sentul Alaya Lokasi Terbaik...         Sentul   \n",
       "7188  Dijual Rumah Murah Siap Huni Dan Sudah Renovas...         Parung   \n",
       "7189  Dijual Rumah 2 Lantai Di Cluster Siap Huni Dek...        Cilebut   \n",
       "7190  Rumah Murah Bebas Banjir Harga Nego Bisa KPR d...          Bogor   \n",
       "7191  Dijual Rumah Murah Sudah Renovasi Dekat Aeon S...         Sentul   \n",
       "\n",
       "     Kabupaten                                          Deskripsi  Latitude  \\\n",
       "0       Bekasi  Pondok Ungu Permai .Blok AD16 (J-17533) Pondok... -6.190236   \n",
       "1       Bekasi  Di Jual Rumah Bintara Jaya Dekat Ke LRT Cikuni... -6.240000   \n",
       "2       Bekasi  Dijual Cepat Rumah siap huni lokasi strategis,... -6.181752   \n",
       "3       Bekasi  Lokasi sangat strategis : § Dekat dengan Pusat... -6.181752   \n",
       "4       Bekasi  Perumahan Graha Harapan (J-15927) MUSTIKAJAYA,... -6.181752   \n",
       "...        ...                                                ...       ...   \n",
       "7187     Bogor  Rumah Eksklusif di Sentul Alaya Lokasi Terbaik... -6.521133   \n",
       "7188     Bogor  J-9060 SHM LT 82 LB 39 1 Lantai 2 Kamar Tidur ... -6.427080   \n",
       "7189     Bogor  J-17894 Harga yang tertera adalah harga Not Al... -6.529410   \n",
       "7190     Bogor  Bali Resort Gunung Sindur (J-17691) Bali Resor... -6.597150   \n",
       "7191     Bogor  J-17780 SHM LT 72 LB 50 1 Lantai 2 Kamar Tidur... -6.521133   \n",
       "\n",
       "       Longitude  Kamar Tidur  LB (m2)  LT (m2)   Harga  \n",
       "0     107.019619            2      100       60   560.0  \n",
       "1     106.950618            3       90       60   825.0  \n",
       "2     106.973684            4      250      163  2040.0  \n",
       "3     106.973684            2       84       94   755.0  \n",
       "4     106.973684            3       95      128   860.0  \n",
       "...          ...          ...      ...      ...     ...  \n",
       "7187  106.850288            3       95      180  2350.0  \n",
       "7188  106.724485            2       39       82   600.0  \n",
       "7189  106.795715            2       48       84   820.0  \n",
       "7190  106.806039            2       56       68   800.0  \n",
       "7191  106.850288            2       50       72   730.0  \n",
       "\n",
       "[7192 rows x 10 columns]"
      ]
     },
     "execution_count": 3,
     "metadata": {},
     "output_type": "execute_result"
    }
   ],
   "source": [
    "df = pd.read_csv('C:/Users/Asus/dataset/data_cleaned_df7.csv')\n",
    "df"
   ]
  },
  {
   "cell_type": "code",
   "execution_count": 11,
   "id": "12233a83",
   "metadata": {},
   "outputs": [
    {
     "data": {
      "text/plain": [
       "3313"
      ]
     },
     "execution_count": 11,
     "metadata": {},
     "output_type": "execute_result"
    }
   ],
   "source": [
    "home = len(df[df['Harga'] > 1000])\n",
    "home"
   ]
  },
  {
   "cell_type": "code",
   "execution_count": 12,
   "id": "4b002e34",
   "metadata": {},
   "outputs": [],
   "source": [
    "total = len(df)"
   ]
  },
  {
   "cell_type": "code",
   "execution_count": 13,
   "id": "5ed03777",
   "metadata": {},
   "outputs": [
    {
     "data": {
      "text/plain": [
       "46.0650723025584"
      ]
     },
     "execution_count": 13,
     "metadata": {},
     "output_type": "execute_result"
    }
   ],
   "source": [
    "persentase_home = (home/total) * 100\n",
    "persentase_home"
   ]
  },
  {
   "cell_type": "code",
   "execution_count": 14,
   "id": "fbcec643",
   "metadata": {},
   "outputs": [
    {
     "name": "stdout",
     "output_type": "stream",
     "text": [
      "Persentase rumah dengan harga lebih dari 2000: 46.07%\n"
     ]
    }
   ],
   "source": [
    "print(f\"Persentase rumah dengan harga lebih dari 1000: {persentase_home:.2f}%\")"
   ]
  },
  {
   "cell_type": "code",
   "execution_count": 15,
   "id": "d8b8d4e3",
   "metadata": {},
   "outputs": [
    {
     "data": {
      "text/html": [
       "<div>\n",
       "<style scoped>\n",
       "    .dataframe tbody tr th:only-of-type {\n",
       "        vertical-align: middle;\n",
       "    }\n",
       "\n",
       "    .dataframe tbody tr th {\n",
       "        vertical-align: top;\n",
       "    }\n",
       "\n",
       "    .dataframe thead th {\n",
       "        text-align: right;\n",
       "    }\n",
       "</style>\n",
       "<table border=\"1\" class=\"dataframe\">\n",
       "  <thead>\n",
       "    <tr style=\"text-align: right;\">\n",
       "      <th></th>\n",
       "      <th>Latitude</th>\n",
       "      <th>Longitude</th>\n",
       "      <th>Kamar Tidur</th>\n",
       "      <th>LB (m2)</th>\n",
       "      <th>LT (m2)</th>\n",
       "      <th>Harga</th>\n",
       "    </tr>\n",
       "  </thead>\n",
       "  <tbody>\n",
       "    <tr>\n",
       "      <th>count</th>\n",
       "      <td>7192.000000</td>\n",
       "      <td>7192.000000</td>\n",
       "      <td>7192.000000</td>\n",
       "      <td>7192.000000</td>\n",
       "      <td>7192.000000</td>\n",
       "      <td>7192.000000</td>\n",
       "    </tr>\n",
       "    <tr>\n",
       "      <th>mean</th>\n",
       "      <td>-6.309222</td>\n",
       "      <td>106.791768</td>\n",
       "      <td>2.843854</td>\n",
       "      <td>94.552836</td>\n",
       "      <td>100.972469</td>\n",
       "      <td>1372.239294</td>\n",
       "    </tr>\n",
       "    <tr>\n",
       "      <th>std</th>\n",
       "      <td>0.125068</td>\n",
       "      <td>0.150654</td>\n",
       "      <td>1.033418</td>\n",
       "      <td>66.950219</td>\n",
       "      <td>63.730187</td>\n",
       "      <td>1225.620085</td>\n",
       "    </tr>\n",
       "    <tr>\n",
       "      <th>min</th>\n",
       "      <td>-6.736270</td>\n",
       "      <td>106.412615</td>\n",
       "      <td>1.000000</td>\n",
       "      <td>1.000000</td>\n",
       "      <td>1.000000</td>\n",
       "      <td>1.000000</td>\n",
       "    </tr>\n",
       "    <tr>\n",
       "      <th>25%</th>\n",
       "      <td>-6.402270</td>\n",
       "      <td>106.679240</td>\n",
       "      <td>2.000000</td>\n",
       "      <td>46.000000</td>\n",
       "      <td>60.000000</td>\n",
       "      <td>570.000000</td>\n",
       "    </tr>\n",
       "    <tr>\n",
       "      <th>50%</th>\n",
       "      <td>-6.303351</td>\n",
       "      <td>106.795063</td>\n",
       "      <td>3.000000</td>\n",
       "      <td>70.000000</td>\n",
       "      <td>81.000000</td>\n",
       "      <td>950.000000</td>\n",
       "    </tr>\n",
       "    <tr>\n",
       "      <th>75%</th>\n",
       "      <td>-6.190089</td>\n",
       "      <td>106.890119</td>\n",
       "      <td>3.000000</td>\n",
       "      <td>120.000000</td>\n",
       "      <td>119.000000</td>\n",
       "      <td>1744.000000</td>\n",
       "    </tr>\n",
       "    <tr>\n",
       "      <th>max</th>\n",
       "      <td>-6.058140</td>\n",
       "      <td>107.218060</td>\n",
       "      <td>11.000000</td>\n",
       "      <td>365.000000</td>\n",
       "      <td>605.000000</td>\n",
       "      <td>6700.000000</td>\n",
       "    </tr>\n",
       "  </tbody>\n",
       "</table>\n",
       "</div>"
      ],
      "text/plain": [
       "          Latitude    Longitude  Kamar Tidur      LB (m2)      LT (m2)  \\\n",
       "count  7192.000000  7192.000000  7192.000000  7192.000000  7192.000000   \n",
       "mean     -6.309222   106.791768     2.843854    94.552836   100.972469   \n",
       "std       0.125068     0.150654     1.033418    66.950219    63.730187   \n",
       "min      -6.736270   106.412615     1.000000     1.000000     1.000000   \n",
       "25%      -6.402270   106.679240     2.000000    46.000000    60.000000   \n",
       "50%      -6.303351   106.795063     3.000000    70.000000    81.000000   \n",
       "75%      -6.190089   106.890119     3.000000   120.000000   119.000000   \n",
       "max      -6.058140   107.218060    11.000000   365.000000   605.000000   \n",
       "\n",
       "             Harga  \n",
       "count  7192.000000  \n",
       "mean   1372.239294  \n",
       "std    1225.620085  \n",
       "min       1.000000  \n",
       "25%     570.000000  \n",
       "50%     950.000000  \n",
       "75%    1744.000000  \n",
       "max    6700.000000  "
      ]
     },
     "execution_count": 15,
     "metadata": {},
     "output_type": "execute_result"
    }
   ],
   "source": [
    "df.describe()"
   ]
  },
  {
   "cell_type": "code",
   "execution_count": 17,
   "id": "7d006174",
   "metadata": {},
   "outputs": [
    {
     "data": {
      "text/plain": [
       "1372.2392936596218"
      ]
     },
     "execution_count": 17,
     "metadata": {},
     "output_type": "execute_result"
    }
   ],
   "source": [
    "rata_harga = df['Harga'].mean()\n",
    "rata_harga"
   ]
  },
  {
   "cell_type": "code",
   "execution_count": null,
   "id": "520481c9",
   "metadata": {},
   "outputs": [],
   "source": []
  },
  {
   "cell_type": "code",
   "execution_count": null,
   "id": "74a8cfbc",
   "metadata": {},
   "outputs": [],
   "source": []
  },
  {
   "cell_type": "code",
   "execution_count": null,
   "id": "b4755478",
   "metadata": {},
   "outputs": [],
   "source": []
  },
  {
   "cell_type": "code",
   "execution_count": null,
   "id": "752ff213",
   "metadata": {},
   "outputs": [],
   "source": []
  }
 ],
 "metadata": {
  "kernelspec": {
   "display_name": "Python 3 (ipykernel)",
   "language": "python",
   "name": "python3"
  },
  "language_info": {
   "codemirror_mode": {
    "name": "ipython",
    "version": 3
   },
   "file_extension": ".py",
   "mimetype": "text/x-python",
   "name": "python",
   "nbconvert_exporter": "python",
   "pygments_lexer": "ipython3",
   "version": "3.11.5"
  }
 },
 "nbformat": 4,
 "nbformat_minor": 5
}
